{
  "nbformat": 4,
  "nbformat_minor": 0,
  "metadata": {
    "colab": {
      "provenance": [],
      "authorship_tag": "ABX9TyNTUFQrrnyTvi7do0PrZ8bR",
      "include_colab_link": true
    },
    "kernelspec": {
      "name": "python3",
      "display_name": "Python 3"
    },
    "language_info": {
      "name": "python"
    }
  },
  "cells": [
    {
      "cell_type": "markdown",
      "metadata": {
        "id": "view-in-github",
        "colab_type": "text"
      },
      "source": [
        "<a href=\"https://colab.research.google.com/github/enoughtolive/orm/blob/main/%EC%98%A8%EB%B3%B4%EB%94%A9_2%EC%9D%BC%EC%B0%A8_%EC%A3%BC%EC%84%9D.ipynb\" target=\"_parent\"><img src=\"https://colab.research.google.com/assets/colab-badge.svg\" alt=\"Open In Colab\"/></a>"
      ]
    },
    {
      "cell_type": "code",
      "execution_count": null,
      "metadata": {
        "id": "6YXirALlCq1b"
      },
      "outputs": [],
      "source": []
    },
    {
      "cell_type": "markdown",
      "source": [
        "# 1. 주석\n"
      ],
      "metadata": {
        "id": "qAdYwlG4Cttp"
      }
    },
    {
      "cell_type": "code",
      "source": [],
      "metadata": {
        "id": "ECaSXKm5CvxQ"
      },
      "execution_count": null,
      "outputs": []
    },
    {
      "cell_type": "markdown",
      "source": [
        "# 1.1 한줄 주석\n"
      ],
      "metadata": {
        "id": "tCexhfWODiij"
      }
    },
    {
      "cell_type": "code",
      "source": [],
      "metadata": {
        "id": "fajlVHySDlRM"
      },
      "execution_count": null,
      "outputs": []
    },
    {
      "cell_type": "markdown",
      "source": [
        "한 줄 누석은 # 기호로 시작합니다. 이 기호 뒤에 따라오는 텍스트는 모두 주석으로 처리됩니다. 아래 처럼 입력하고 엔터를 입력하도록 하겠습니다. 그러면 Hello, World 1! 과 Hello, World 2!가 출력된 것을 확인하실 수 있습니다.\n",
        "(즉 # 에 속한 내용은 코드로 나오지 않음)\n",
        "위에서 #을 쓸 때에는 제목, 코드에서 #쓸 때에는, 해당 코드가 출력되지 않고, 말 그대로 주석 역할을 함"
      ],
      "metadata": {
        "id": "xZX__AOjDl2q"
      }
    },
    {
      "cell_type": "code",
      "source": [
        "# 이것은 주석입니다.\n",
        "print('Hello, World 1!') # 이것도 주석입니다.\n",
        "#  print('Hello, World 2!') # 이 경우, 코드의 에러 / 향수 수정 요망 / 임시 주석 (코드에도 주석을 입힐 수 있다)\n"
      ],
      "metadata": {
        "colab": {
          "base_uri": "https://localhost:8080/"
        },
        "id": "qDW7B3woD02c",
        "outputId": "56eaa735-d239-46e9-8035-50d966aee827"
      },
      "execution_count": 4,
      "outputs": [
        {
          "output_type": "stream",
          "name": "stdout",
          "text": [
            "Hello, World 1!\n"
          ]
        }
      ]
    },
    {
      "cell_type": "code",
      "source": [],
      "metadata": {
        "id": "QmtlrQopD-b4"
      },
      "execution_count": null,
      "outputs": []
    },
    {
      "cell_type": "markdown",
      "source": [
        "## 1.2 여러줄 주석\n",
        "\n",
        "이번에는 여러 줄 주석을 사용하겠습니다.\n",
        "따옴표 또는 쌍 따옴표 3 개 사용\n",
        "\n"
      ],
      "metadata": {
        "id": "c_YVQ5CCEzXb"
      }
    },
    {
      "cell_type": "code",
      "source": [
        "# 이것은 여러줄 주석입니다\n",
        "\"\"\"\n",
        "# 이것은 주석입니다.\n",
        "또 다른 주석입니다.\n",
        "print('Hello, World 1!')\n",
        "print('Hello, World 1!')\n",
        "print('Hello, World 1!')\n",
        "또 다른 주석입니다.\n",
        "\"\"\"\n",
        "print('Hello, World 1!')\n",
        "print('Hello, World 1!')"
      ],
      "metadata": {
        "colab": {
          "base_uri": "https://localhost:8080/"
        },
        "id": "u5V3KSz6E1xG",
        "outputId": "14ea1a19-e8ea-467f-d9b2-e84f930343bb"
      },
      "execution_count": 11,
      "outputs": [
        {
          "output_type": "stream",
          "name": "stdout",
          "text": [
            "Hello, World 1!\n",
            "Hello, World 1!\n"
          ]
        }
      ]
    },
    {
      "cell_type": "code",
      "source": [],
      "metadata": {
        "id": "DVccHOHlFLkY"
      },
      "execution_count": 11,
      "outputs": []
    }
  ]
}