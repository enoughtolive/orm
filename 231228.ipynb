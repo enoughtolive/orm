{
  "nbformat": 4,
  "nbformat_minor": 0,
  "metadata": {
    "colab": {
      "provenance": []
    },
    "kernelspec": {
      "name": "python3",
      "display_name": "Python 3"
    },
    "language_info": {
      "name": "python"
    }
  },
  "cells": [
    {
      "cell_type": "code",
      "execution_count": 1,
      "metadata": {
        "colab": {
          "base_uri": "https://localhost:8080/"
        },
        "id": "fT53EZX9O-D0",
        "outputId": "dc64176d-c156-4fdb-d6b2-060b4b5195be"
      },
      "outputs": [
        {
          "output_type": "stream",
          "name": "stdout",
          "text": [
            "hello wolrd\n"
          ]
        }
      ],
      "source": [
        "print('hello wolrd')\n"
      ]
    }
  ]
}